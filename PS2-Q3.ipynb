{
 "cells": [
  {
   "cell_type": "markdown",
   "metadata": {},
   "source": [
    "**Mohammad Zhalechian**\n",
    "PS2, Q3"
   ]
  },
  {
   "cell_type": "code",
   "execution_count": 1,
   "metadata": {},
   "outputs": [],
   "source": [
    "#-----------------------------------------------------------------------------\n",
    "#-------------------------------Library--------------------------------------\n",
    "#-----------------------------------------------------------------------------\n",
    "import numpy as np\n",
    "import time\n",
    "import scipy as sp\n",
    "import scipy.stats as st\n",
    "import pandas as pd\n",
    "from IPython.core.display import display, HTML\n",
    "from collections import defaultdict"
   ]
  },
  {
   "cell_type": "markdown",
   "metadata": {},
   "source": [
    "### Question 3 - Data Cleaning"
   ]
  },
  {
   "cell_type": "code",
   "execution_count": null,
   "metadata": {},
   "outputs": [],
   "source": [
    "# Read data from the source and data cleaning\n",
    "cols = ['SEQN','RIDAGEYR','RIDRETH3','DMDEDUC2','DMDMARTL',\n",
    "        'RIDSTATR', 'SDMVPSU', 'SDMVSTRA', 'WTMEC2YR', 'WTINT2YR']\n",
    "\n",
    "col_names=['unique ids','age','race and ethnicity','education','marital status',\n",
    "           'exam_status','masked variance pseudo', 'masked variance pseudo-stratum',\n",
    "           '2 year MEC exam weight','2 year interview weight']\n",
    "\n",
    "files=['G','H','I','J']\n",
    "demo_df=pd.DataFrame()\n",
    "\n",
    "for i in range(1,5):\n",
    "    read_path=r'https://wwwn.cdc.gov/Nchs/Nhanes/'+\\\n",
    "          str(2010+(2*i-1))+'-'+str(2010+2*i)+'/DEMO_'+files[i-1]+'.XPT'\n",
    "    df = pd.read_sas(read_path)[cols]\n",
    "    df.columns = col_names\n",
    "    df[\"cohort\"] = np.ones(len(df))*i\n",
    "    #df=df.convert_dtypes()\n",
    "    demo_df = demo_df.append(df).reset_index(drop=True)\n",
    "\n",
    "demo_df.to_pickle('demo.pkl')\n",
    "\n",
    "\n",
    "cols=['SEQN','OHDDESTS']+[\n",
    "    'OHX0'+str(i)+'TC' for i in range(1,10)]+ [\n",
    "    'OHX'+str(i)+'TC' for i in range(10,33)]+[\n",
    "    'OHX0'+str(i)+'CTC' for i in range(2,10)]+[\n",
    "    'OHX'+str(i)+'CTC' for i in range(10,32)]\n",
    "\n",
    "cols.remove('OHX16CTC')\n",
    "cols.remove('OHX17CTC')\n",
    "\n",
    "col_names=['unique ids','status']+[\n",
    "    'tooth Count #'+str(i) for i in range(1,10)]+ [\n",
    "    'tooth Count #'+str(i) for i in range(10,33)]+[\n",
    "    'coronal cavities #'+str(i) for i in range(2,10)]+[\n",
    "    'coronal cavities #'+str(i) for i in range(10,32)]\n",
    "\n",
    "col_names.remove('coronal cavities #16')\n",
    "col_names.remove('coronal cavities #17')\n",
    "\n",
    "files=['G','H','I','J']\n",
    "oral_df=pd.DataFrame()\n",
    "\n",
    "for i in range(1,5):\n",
    "    read_path=r'https://wwwn.cdc.gov/Nchs/Nhanes/'+str(2010+(2*i-1))+'-' \\\n",
    "          +str(2010+2*i)+'/OHXDEN_'+files[i-1]+'.XPT'\n",
    "    df = pd.read_sas(read_path)[cols]\n",
    "    df.columns = col_names\n",
    "    df[\"cohort\"] = np.ones(len(df))*i\n",
    "    #df=df.convert_dtypes()\n",
    "    oral_df = oral_df.append(df).reset_index(drop=True)\n",
    "\n",
    "oral_df.to_pickle('oral.pkl')\n",
    "\n",
    "#merge two dataset\n",
    "cols_reg=['tooth Count #'+str(i) for i in range(1,10)] + [\n",
    "          'tooth Count #'+str(i) for i in range(10,33)]\n",
    "\n",
    "df_ohx = pd.merge(demo_df[['unique ids','age','race and ethnicity']],\n",
    "                  oral_df[['unique ids']+cols_reg], \n",
    "                  on= 'unique ids' , how = 'left')\n",
    "\n",
    "#drop NA\n",
    "df_ohx = df_ohx.dropna()\n",
    "df_ohx.to_pickle('df_ohx.pkl')\n",
    "\n"
   ]
  },
  {
   "cell_type": "code",
   "execution_count": null,
   "metadata": {},
   "outputs": [],
   "source": []
  }
 ],
 "metadata": {
  "kernelspec": {
   "display_name": "Python 3",
   "language": "python",
   "name": "python3"
  },
  "language_info": {
   "codemirror_mode": {
    "name": "ipython",
    "version": 3
   },
   "file_extension": ".py",
   "mimetype": "text/x-python",
   "name": "python",
   "nbconvert_exporter": "python",
   "pygments_lexer": "ipython3",
   "version": "3.7.4"
  }
 },
 "nbformat": 4,
 "nbformat_minor": 5
}
